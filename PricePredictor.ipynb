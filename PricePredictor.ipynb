{
  "nbformat": 4,
  "nbformat_minor": 0,
  "metadata": {
    "colab": {
      "name": "PricePredictor.ipynb",
      "provenance": [],
      "collapsed_sections": [],
      "authorship_tag": "ABX9TyNIcXBViqDLd7jvrKME3ece",
      "include_colab_link": true
    },
    "kernelspec": {
      "name": "python3",
      "display_name": "Python 3"
    },
    "language_info": {
      "name": "python"
    }
  },
  "cells": [
    {
      "cell_type": "markdown",
      "metadata": {
        "id": "view-in-github",
        "colab_type": "text"
      },
      "source": [
        "<a href=\"https://colab.research.google.com/github/Riturajseal2001/MobilePricePredictor/blob/master/PricePredictor.ipynb\" target=\"_parent\"><img src=\"https://colab.research.google.com/assets/colab-badge.svg\" alt=\"Open In Colab\"/></a>"
      ]
    },
    {
      "cell_type": "code",
      "metadata": {
        "colab": {
          "base_uri": "https://localhost:8080/",
          "height": 296
        },
        "id": "40okCpZFzU88",
        "outputId": "0d7dc8ac-9821-40e4-ce20-fb3ad1b332b5"
      },
      "source": [
        "import numpy as np\n",
        "import pandas as pd\n",
        "import matplotlib.pyplot as plt\n",
        "\n",
        "df = pd.read_csv('train.csv')\n",
        "X = df[:].drop(['price_range'], axis=1)\n",
        "y = df['price_range']\n",
        "df1 = pd.read_csv('test.csv')\n",
        "from sklearn.model_selection import train_test_split\n",
        "X_train, X_test, y_train, y_test = train_test_split(X,y,train_size=0.65)\n",
        "from sklearn.svm import SVC\n",
        "acc = 0 \n",
        "i1 = 0\n",
        "output = []\n",
        "acc_list = []\n",
        "C_list = []\n",
        "inp = df1.drop(['id'], axis=1)\n",
        "for i in range(1,150):\n",
        "    model = SVC(C = i,kernel='poly',break_ties=True)\n",
        "    model.fit(X_train,y_train)\n",
        "    if acc < model.score(X_test,y_test)*100:\n",
        "        acc = model.score(X_test,y_test)*100\n",
        "        i1 = i\n",
        "        df1['predicted_price'] = model.predict(inp)\n",
        "    acc_list.append(model.score(X_test,y_test)*100)\n",
        "    C_list.append(i)\n",
        "plt.ylabel('Accuracy in %')\n",
        "plt.xlabel('Values of regularization(C)')\n",
        "plt.plot(C_list,acc_list)\n",
        "plt.show()\n",
        "df1.to_csv('output.csv')\n",
        "print(\"Accuracy of trained model in %: \",acc)"
      ],
      "execution_count": 3,
      "outputs": [
        {
          "output_type": "display_data",
          "data": {
            "image/png": "[encoded data removed]",
            "text/plain": [
              "<Figure size 432x288 with 1 Axes>"
            ]
          },
          "metadata": {
            "needs_background": "light"
          }
        },
        {
          "output_type": "stream",
          "name": "stdout",
          "text": [
            "Accuracy of trained model in %:  97.14285714285714\n"
          ]
        }
      ]
    }
  ]
}